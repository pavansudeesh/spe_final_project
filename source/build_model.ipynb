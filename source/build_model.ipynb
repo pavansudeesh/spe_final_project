{
 "cells": [
  {
   "cell_type": "code",
   "execution_count": 1,
   "metadata": {
    "_cell_guid": "b1076dfc-b9ad-4769-8c92-a6c4dae69d19",
    "_uuid": "8f2839f25d086af736a60e9eeb907d3b93b6e0e5"
   },
   "outputs": [],
   "source": [
    "# This Python 3 environment comes with many helpful analytics libraries installed\n",
    "# It is defined by the kaggle/python Docker image: https://github.com/kaggle/docker-python\n",
    "# For example, here's several helpful packages to load\n",
    "\n",
    "import numpy as np # linear algebra\n",
    "import pandas as pd # data processing, CSV file I/O (e.g. pd.read_csv)\n",
    "\n",
    "# Input data files are available in the read-only \"../input/\" directory\n",
    "# For example, running this (by clicking run or pressing Shift+Enter) will list all files under the input directory\n",
    "\n",
    "import os\n",
    "for dirname, _, filenames in os.walk('/kaggle/input'):\n",
    "    for filename in filenames:\n",
    "        print(os.path.join(dirname, filename))\n",
    "\n",
    "# You can write up to 20GB to the current directory (/kaggle/working/) that gets preserved as output when you create a version using \"Save & Run All\" \n",
    "# You can also write temporary files to /kaggle/temp/, but they won't be saved outside of the current session"
   ]
  },
  {
   "cell_type": "markdown",
   "metadata": {},
   "source": [
    "## MASK DETECTION-MobileNet MODEL"
   ]
  },
  {
   "cell_type": "code",
   "execution_count": 22,
   "metadata": {},
   "outputs": [],
   "source": [
    "#The data used to train this model can be found in the below link,\n",
    "#https://www.kaggle.com/ashishjangra27/face-mask-12k-images-dataset\n",
    "#If the model is to be built locally, this dataset must be downloaded first"
   ]
  },
  {
   "cell_type": "code",
   "execution_count": 3,
   "metadata": {},
   "outputs": [],
   "source": [
    "import matplotlib.pyplot as plt\n",
    "import os\n",
    "import time\n",
    "import random\n",
    "import cv2\n",
    "#from sklearn.metrics import classification_report, confusion_matrix, accuracy_score\n",
    "#import seaborn as sns\n",
    "import keras\n",
    "from keras import layers\n",
    "from keras.applications import MobileNetV2\n",
    "from keras.preprocessing.image import ImageDataGenerator\n",
    "from tensorflow.keras.layers import AveragePooling2D, Dropout, Flatten, Dense, Input\n",
    "import matplotlib.gridspec as gridspec"
   ]
  },
  {
   "cell_type": "code",
   "execution_count": 5,
   "metadata": {},
   "outputs": [],
   "source": [
    "train_dir = \"../input/face-mask-12k-images-dataset/Face Mask Dataset/Train\"\n",
    "val_dir = \"../input/face-mask-12k-images-dataset/Face Mask Dataset/Validation\"\n",
    "test_dir = \"../input/face-mask-12k-images-dataset/Face Mask Dataset/Test\"\n",
    "\n",
    "train_dir = \"Face Mask Dataset/Train\"\n",
    "val_dir = \"Face Mask Dataset/Validation\"\n",
    "test_dir = \"Face Mask Dataset/Test\"\n",
    "\n",
    "classes = [\"With Mask\", \"Without Mask\"]"
   ]
  },
  {
   "cell_type": "markdown",
   "metadata": {},
   "source": [
    "### Data Loading and Preprocessing"
   ]
  },
  {
   "cell_type": "code",
   "execution_count": 6,
   "metadata": {},
   "outputs": [
    {
     "name": "stdout",
     "output_type": "stream",
     "text": [
      "Found 10000 images belonging to 2 classes.\n",
      "Found 800 images belonging to 2 classes.\n",
      "Found 992 images belonging to 2 classes.\n"
     ]
    }
   ],
   "source": [
    "## Data Augmentation\n",
    "# Dataset Loader\n",
    "train_datagen = ImageDataGenerator(\n",
    "                                rescale=1./255,\n",
    "                                rotation_range=0.2,\n",
    "                                #width_shift_range=0.1,\n",
    "                                #height_shift_range=0.1,\n",
    "                                shear_range=0.2,\n",
    "                                #zoom_range=0.09,\n",
    "                                horizontal_flip=True,\n",
    "                                vertical_flip=False,\n",
    "                                #validation_split=0.1\n",
    "                                )\n",
    "\n",
    "val_datagen = ImageDataGenerator(rescale=1./255)\n",
    "\n",
    "# Image Generator Config\n",
    "target_size = (224, 224)\n",
    "batch_size = 16\n",
    "\n",
    "# Loading Train Dataset\n",
    "train_dataset = train_datagen.flow_from_directory(train_dir,\n",
    "                                                  target_size=target_size,\n",
    "                                                  interpolation=\"nearest\",\n",
    "                                                  batch_size=batch_size,\n",
    "                                                  class_mode=\"categorical\",\n",
    "                                                  shuffle=True)\n",
    "\n",
    "# Loading Validation Dataset\n",
    "val_dataset = val_datagen.flow_from_directory(val_dir,\n",
    "                                              target_size=target_size,\n",
    "                                              interpolation=\"nearest\",\n",
    "                                              batch_size=batch_size,\n",
    "                                              class_mode=\"categorical\",\n",
    "                                              shuffle=False)\n",
    "\n",
    "# Load Test Dataset\n",
    "test_dataset = val_datagen.flow_from_directory(test_dir,\n",
    "                                            target_size=target_size,\n",
    "                                            interpolation=\"nearest\",\n",
    "                                            batch_size=1,\n",
    "                                            class_mode=None,\n",
    "                                            shuffle=False)"
   ]
  },
  {
   "cell_type": "code",
   "execution_count": 7,
   "metadata": {},
   "outputs": [
    {
     "name": "stdout",
     "output_type": "stream",
     "text": [
      "625\n",
      "50\n",
      "992\n"
     ]
    }
   ],
   "source": [
    "print(len(train_dataset))\n",
    "print(len(val_dataset))\n",
    "print(len(test_dataset))"
   ]
  },
  {
   "cell_type": "code",
   "execution_count": 8,
   "metadata": {},
   "outputs": [
    {
     "name": "stdout",
     "output_type": "stream",
     "text": [
      "Shape of Images: (224, 224, 3)\n",
      "Shape of Output labels: (2,)\n",
      "Shape of Images: (224, 224, 3)\n",
      "Shape of Output labels: (2,)\n"
     ]
    }
   ],
   "source": [
    "print(\"Shape of Images:\", train_dataset[0][0][0].shape)\n",
    "print(\"Shape of Output labels:\", train_dataset[0][1][0].shape)\n",
    "print(\"Shape of Images:\", val_dataset[0][0][0].shape)\n",
    "print(\"Shape of Output labels:\", val_dataset[0][1][0].shape)"
   ]
  },
  {
   "cell_type": "markdown",
   "metadata": {},
   "source": [
    "### Model"
   ]
  },
  {
   "cell_type": "code",
   "execution_count": 9,
   "metadata": {},
   "outputs": [
    {
     "name": "stdout",
     "output_type": "stream",
     "text": [
      "Downloading data from https://storage.googleapis.com/tensorflow/keras-applications/mobilenet_v2/mobilenet_v2_weights_tf_dim_ordering_tf_kernels_1.0_224_no_top.h5\n",
      "9412608/9406464 [==============================] - 35s 4us/step\n"
     ]
    }
   ],
   "source": [
    "base_model = MobileNetV2(weights=\"imagenet\", include_top=False, input_shape=(224, 224, 3))"
   ]
  },
  {
   "cell_type": "markdown",
   "metadata": {},
   "source": [
    "### Adding Extra Layers"
   ]
  },
  {
   "cell_type": "code",
   "execution_count": 10,
   "metadata": {},
   "outputs": [
    {
     "name": "stdout",
     "output_type": "stream",
     "text": [
      "Model: \"sequential\"\n",
      "_________________________________________________________________\n",
      "Layer (type)                 Output Shape              Param #   \n",
      "=================================================================\n",
      "mobilenetv2_1.00_224 (Functi (None, 7, 7, 1280)        2257984   \n",
      "_________________________________________________________________\n",
      "conv2d (Conv2D)              (None, 3, 3, 128)         1474688   \n",
      "_________________________________________________________________\n",
      "flatten (Flatten)            (None, 1152)              0         \n",
      "_________________________________________________________________\n",
      "dense (Dense)                (None, 512)               590336    \n",
      "_________________________________________________________________\n",
      "dense_1 (Dense)              (None, 128)               65664     \n",
      "_________________________________________________________________\n",
      "dense_2 (Dense)              (None, 2)                 258       \n",
      "=================================================================\n",
      "Total params: 4,388,930\n",
      "Trainable params: 2,130,946\n",
      "Non-trainable params: 2,257,984\n",
      "_________________________________________________________________\n"
     ]
    }
   ],
   "source": [
    "# Freezing Layer\n",
    "for layer in base_model.layers:\n",
    "    layer.trainable = False\n",
    "\n",
    "model = keras.Sequential()\n",
    "model.add(base_model)\n",
    "model.add(layers.Conv2D(128, 3, padding = \"valid\", strides = 2, activation = 'relu'))\n",
    "#model.add(layers.AveragePooling2D(pool_size = (7, 7)))\n",
    "model.add(layers.Flatten())\n",
    "#model.add(layers.Dense(1024, activation=\"relu\"))\n",
    "model.add(layers.Dense(512, activation=\"relu\"))\n",
    "model.add(layers.Dense(128, activation=\"relu\"))\n",
    "model.add(layers.Dense(2, activation=\"softmax\"))\n",
    "\n",
    "model.summary()"
   ]
  },
  {
   "cell_type": "markdown",
   "metadata": {},
   "source": [
    "### Training the Model"
   ]
  },
  {
   "cell_type": "code",
   "execution_count": 11,
   "metadata": {},
   "outputs": [],
   "source": [
    "## Setting backprop of model\n",
    "model.compile(optimizer=\"adam\", loss=\"categorical_crossentropy\", metrics =\"accuracy\")"
   ]
  },
  {
   "cell_type": "code",
   "execution_count": 12,
   "metadata": {},
   "outputs": [
    {
     "name": "stdout",
     "output_type": "stream",
     "text": [
      "WARNING:tensorflow:From <ipython-input-12-591186b5ee20>:3: Model.fit_generator (from tensorflow.python.keras.engine.training) is deprecated and will be removed in a future version.\n",
      "Instructions for updating:\n",
      "Please use Model.fit, which supports generators.\n",
      "Epoch 1/50\n",
      "39/39 [==============================] - 24s 626ms/step - loss: 0.5276 - accuracy: 0.9022 - val_loss: 0.0624 - val_accuracy: 0.9583\n",
      "Epoch 2/50\n",
      "39/39 [==============================] - 23s 593ms/step - loss: 0.0799 - accuracy: 0.9808 - val_loss: 0.0455 - val_accuracy: 0.9792\n",
      "Epoch 3/50\n",
      "39/39 [==============================] - 22s 575ms/step - loss: 0.0634 - accuracy: 0.9760 - val_loss: 0.0061 - val_accuracy: 1.0000\n",
      "Epoch 4/50\n",
      "39/39 [==============================] - 24s 626ms/step - loss: 0.0246 - accuracy: 0.9872 - val_loss: 1.4820e-05 - val_accuracy: 1.0000\n",
      "Epoch 5/50\n",
      "39/39 [==============================] - 24s 618ms/step - loss: 0.0778 - accuracy: 0.9856 - val_loss: 0.0078 - val_accuracy: 1.0000\n",
      "Epoch 6/50\n",
      "39/39 [==============================] - 24s 627ms/step - loss: 0.0311 - accuracy: 0.9840 - val_loss: 0.0027 - val_accuracy: 1.0000\n",
      "Epoch 7/50\n",
      "39/39 [==============================] - 25s 637ms/step - loss: 0.0135 - accuracy: 0.9952 - val_loss: 0.0192 - val_accuracy: 1.0000\n",
      "Epoch 8/50\n",
      "39/39 [==============================] - 25s 634ms/step - loss: 0.0083 - accuracy: 0.9952 - val_loss: 0.0386 - val_accuracy: 0.9792\n",
      "Epoch 9/50\n",
      "39/39 [==============================] - 25s 630ms/step - loss: 0.0554 - accuracy: 0.9920 - val_loss: 0.0039 - val_accuracy: 1.0000\n",
      "Epoch 10/50\n",
      "39/39 [==============================] - 23s 578ms/step - loss: 0.0184 - accuracy: 0.9936 - val_loss: 0.0125 - val_accuracy: 1.0000\n",
      "Epoch 11/50\n",
      "39/39 [==============================] - 23s 580ms/step - loss: 0.0106 - accuracy: 0.9952 - val_loss: 0.0010 - val_accuracy: 1.0000\n",
      "Epoch 12/50\n",
      "39/39 [==============================] - 22s 569ms/step - loss: 0.0613 - accuracy: 0.9808 - val_loss: 3.0701e-05 - val_accuracy: 1.0000\n",
      "Epoch 13/50\n",
      "39/39 [==============================] - 21s 548ms/step - loss: 0.0436 - accuracy: 0.9856 - val_loss: 0.0362 - val_accuracy: 0.9792\n",
      "Epoch 14/50\n",
      "39/39 [==============================] - 21s 535ms/step - loss: 0.0201 - accuracy: 0.9904 - val_loss: 0.0043 - val_accuracy: 1.0000\n",
      "Epoch 15/50\n",
      "39/39 [==============================] - 22s 552ms/step - loss: 0.0477 - accuracy: 0.9856 - val_loss: 0.0219 - val_accuracy: 1.0000\n",
      "Epoch 16/50\n",
      "39/39 [==============================] - 21s 533ms/step - loss: 0.0252 - accuracy: 0.9904 - val_loss: 0.0028 - val_accuracy: 1.0000\n",
      "Epoch 17/50\n",
      "39/39 [==============================] - 20s 525ms/step - loss: 0.0093 - accuracy: 0.9968 - val_loss: 1.6684e-04 - val_accuracy: 1.0000\n",
      "Epoch 18/50\n",
      "39/39 [==============================] - 20s 524ms/step - loss: 0.0422 - accuracy: 0.9920 - val_loss: 0.0275 - val_accuracy: 1.0000\n",
      "Epoch 19/50\n",
      "39/39 [==============================] - 20s 523ms/step - loss: 0.0462 - accuracy: 0.9904 - val_loss: 0.1328 - val_accuracy: 0.9375\n",
      "Epoch 20/50\n",
      "39/39 [==============================] - 20s 518ms/step - loss: 0.0059 - accuracy: 0.9952 - val_loss: 0.0236 - val_accuracy: 0.9792\n",
      "Epoch 21/50\n",
      "39/39 [==============================] - 19s 500ms/step - loss: 0.0579 - accuracy: 0.9936 - val_loss: 0.0014 - val_accuracy: 1.0000\n",
      "Epoch 22/50\n",
      "39/39 [==============================] - 20s 506ms/step - loss: 0.0269 - accuracy: 0.9936 - val_loss: 0.0019 - val_accuracy: 1.0000\n",
      "Epoch 23/50\n",
      "39/39 [==============================] - 19s 492ms/step - loss: 0.0140 - accuracy: 0.9952 - val_loss: 0.0023 - val_accuracy: 1.0000\n",
      "Epoch 24/50\n",
      "39/39 [==============================] - 19s 497ms/step - loss: 0.0180 - accuracy: 0.9904 - val_loss: 0.0294 - val_accuracy: 1.0000\n",
      "Epoch 25/50\n",
      "39/39 [==============================] - 20s 502ms/step - loss: 0.0176 - accuracy: 0.9968 - val_loss: 0.0078 - val_accuracy: 1.0000\n",
      "Epoch 26/50\n",
      "39/39 [==============================] - 20s 507ms/step - loss: 0.0027 - accuracy: 0.9984 - val_loss: 8.7441e-05 - val_accuracy: 1.0000\n",
      "Epoch 27/50\n",
      "39/39 [==============================] - 19s 493ms/step - loss: 0.0152 - accuracy: 0.9952 - val_loss: 0.0013 - val_accuracy: 1.0000\n",
      "Epoch 28/50\n",
      "39/39 [==============================] - 19s 490ms/step - loss: 0.0105 - accuracy: 0.9968 - val_loss: 0.0081 - val_accuracy: 1.0000\n",
      "Epoch 29/50\n",
      "39/39 [==============================] - 19s 488ms/step - loss: 0.0115 - accuracy: 0.9968 - val_loss: 0.2104 - val_accuracy: 0.9375\n",
      "Epoch 30/50\n",
      "39/39 [==============================] - 19s 481ms/step - loss: 0.0168 - accuracy: 0.9952 - val_loss: 1.4870e-05 - val_accuracy: 1.0000\n",
      "Epoch 31/50\n",
      "39/39 [==============================] - 19s 490ms/step - loss: 0.0020 - accuracy: 0.9984 - val_loss: 3.6855e-05 - val_accuracy: 1.0000\n",
      "Epoch 32/50\n",
      "39/39 [==============================] - 19s 488ms/step - loss: 0.0088 - accuracy: 0.9984 - val_loss: 3.3888e-04 - val_accuracy: 1.0000\n",
      "Epoch 33/50\n",
      "39/39 [==============================] - 19s 482ms/step - loss: 0.0210 - accuracy: 0.9904 - val_loss: 9.8364e-04 - val_accuracy: 1.0000\n",
      "Epoch 34/50\n",
      "39/39 [==============================] - 19s 475ms/step - loss: 0.0010 - accuracy: 1.0000 - val_loss: 6.1840e-07 - val_accuracy: 1.0000\n",
      "Epoch 35/50\n",
      "39/39 [==============================] - 19s 483ms/step - loss: 0.0372 - accuracy: 0.9920 - val_loss: 0.0022 - val_accuracy: 1.0000\n",
      "Epoch 36/50\n",
      "39/39 [==============================] - 19s 479ms/step - loss: 0.0196 - accuracy: 0.9936 - val_loss: 0.0034 - val_accuracy: 1.0000\n",
      "Epoch 37/50\n",
      "39/39 [==============================] - 19s 487ms/step - loss: 0.0152 - accuracy: 0.9968 - val_loss: 1.9615e-04 - val_accuracy: 1.0000\n",
      "Epoch 38/50\n",
      "39/39 [==============================] - 18s 474ms/step - loss: 0.0264 - accuracy: 0.9952 - val_loss: 0.0601 - val_accuracy: 0.9792\n",
      "Epoch 39/50\n",
      "39/39 [==============================] - 18s 470ms/step - loss: 0.0058 - accuracy: 0.9968 - val_loss: 1.0659e-04 - val_accuracy: 1.0000\n",
      "Epoch 40/50\n",
      "39/39 [==============================] - 19s 478ms/step - loss: 0.0139 - accuracy: 0.9952 - val_loss: 2.4158e-04 - val_accuracy: 1.0000\n",
      "Epoch 41/50\n",
      "39/39 [==============================] - 18s 470ms/step - loss: 0.0157 - accuracy: 0.9952 - val_loss: 0.0112 - val_accuracy: 1.0000\n",
      "Epoch 42/50\n",
      "39/39 [==============================] - 19s 475ms/step - loss: 0.0301 - accuracy: 0.9920 - val_loss: 1.3898e-05 - val_accuracy: 1.0000\n",
      "Epoch 43/50\n",
      "39/39 [==============================] - 19s 483ms/step - loss: 0.0267 - accuracy: 0.9904 - val_loss: 8.6794e-04 - val_accuracy: 1.0000\n",
      "Epoch 44/50\n",
      "39/39 [==============================] - 19s 480ms/step - loss: 0.0151 - accuracy: 0.9952 - val_loss: 7.0867e-05 - val_accuracy: 1.0000\n",
      "Epoch 45/50\n",
      "39/39 [==============================] - 19s 480ms/step - loss: 0.0022 - accuracy: 1.0000 - val_loss: 0.0257 - val_accuracy: 1.0000\n",
      "Epoch 46/50\n",
      "39/39 [==============================] - 19s 490ms/step - loss: 0.0076 - accuracy: 0.9984 - val_loss: 5.0146e-05 - val_accuracy: 1.0000\n",
      "Epoch 47/50\n",
      "39/39 [==============================] - 19s 482ms/step - loss: 0.0083 - accuracy: 0.9984 - val_loss: 5.9122e-05 - val_accuracy: 1.0000\n",
      "Epoch 48/50\n",
      "39/39 [==============================] - 18s 473ms/step - loss: 0.0025 - accuracy: 0.9984 - val_loss: 2.0739e-04 - val_accuracy: 1.0000\n",
      "Epoch 49/50\n",
      "39/39 [==============================] - 18s 468ms/step - loss: 0.0046 - accuracy: 0.9984 - val_loss: 0.0028 - val_accuracy: 1.0000\n",
      "Epoch 50/50\n",
      "39/39 [==============================] - 18s 472ms/step - loss: 0.0163 - accuracy: 0.9952 - val_loss: 0.0016 - val_accuracy: 1.0000\n"
     ]
    }
   ],
   "source": [
    "start_time = time.time()\n",
    "EPOCHS = 50\n",
    "history = model.fit_generator(train_dataset,\n",
    "                               steps_per_epoch=len(train_dataset)//train_dataset.batch_size,\n",
    "                               validation_data=val_dataset, \n",
    "                               validation_steps=len(val_dataset)//val_dataset.batch_size,\n",
    "                               epochs=EPOCHS, \n",
    "                               )"
   ]
  },
  {
   "cell_type": "code",
   "execution_count": 13,
   "metadata": {},
   "outputs": [
    {
     "name": "stdout",
     "output_type": "stream",
     "text": [
      "--- 20.07698125441869 minutes ---\n"
     ]
    }
   ],
   "source": [
    "print(\"--- %s minutes ---\" % ((time.time() - start_time)/60))"
   ]
  },
  {
   "cell_type": "markdown",
   "metadata": {},
   "source": [
    "### Evaluation of the Model"
   ]
  },
  {
   "cell_type": "code",
   "execution_count": 14,
   "metadata": {},
   "outputs": [],
   "source": [
    "from sklearn.metrics import classification_report, confusion_matrix, accuracy_score"
   ]
  },
  {
   "cell_type": "code",
   "execution_count": 15,
   "metadata": {},
   "outputs": [
    {
     "data": {
      "text/plain": [
       "<matplotlib.legend.Legend at 0x7f085e9350a0>"
      ]
     },
     "execution_count": 15,
     "metadata": {},
     "output_type": "execute_result"
    },
    {
     "data": {
      "image/png": "[encoded data removed]",
      "text/plain": [
       "<Figure size 1008x360 with 2 Axes>"
      ]
     },
     "metadata": {
      "needs_background": "light"
     },
     "output_type": "display_data"
    }
   ],
   "source": [
    "fig = plt.figure(figsize=(14,5))\n",
    "grid = gridspec.GridSpec(ncols=2,nrows=1,figure=fig)\n",
    "fig.add_subplot(grid[0])\n",
    "plt.plot(history.history['accuracy'], label='training accuracy')\n",
    "plt.plot(history.history['val_accuracy'], label='val accuracy')\n",
    "plt.title('Accuracy')\n",
    "plt.xlabel('epochs')\n",
    "plt.ylabel('accuracy')\n",
    "plt.legend()\n",
    "\n",
    "fig.add_subplot(grid[1])\n",
    "plt.plot(history.history['loss'], label='training loss')\n",
    "plt.plot(history.history['val_loss'], label='val loss')\n",
    "plt.title('Loss')\n",
    "plt.xlabel('epochs')\n",
    "plt.ylabel('loss')\n",
    "plt.legend()"
   ]
  },
  {
   "cell_type": "markdown",
   "metadata": {},
   "source": [
    "### Testing the Model"
   ]
  },
  {
   "cell_type": "code",
   "execution_count": 16,
   "metadata": {},
   "outputs": [
    {
     "name": "stdout",
     "output_type": "stream",
     "text": [
      "WARNING:tensorflow:From <ipython-input-16-aac7b7bbc486>:1: Model.predict_generator (from tensorflow.python.keras.engine.training) is deprecated and will be removed in a future version.\n",
      "Instructions for updating:\n",
      "Please use Model.predict, which supports generators.\n"
     ]
    }
   ],
   "source": [
    "probabilities = model.predict_generator(test_dataset)\n",
    "y_pred = probabilities.argmax(axis=-1)\n",
    "y_test = test_dataset.classes"
   ]
  },
  {
   "cell_type": "code",
   "execution_count": 17,
   "metadata": {},
   "outputs": [
    {
     "name": "stdout",
     "output_type": "stream",
     "text": [
      "Accuracy Score of Model: 98.89112903225806\n"
     ]
    }
   ],
   "source": [
    "print(\"Accuracy Score of Model:\", accuracy_score(y_pred,y_test) * 100)"
   ]
  },
  {
   "cell_type": "code",
   "execution_count": 21,
   "metadata": {},
   "outputs": [],
   "source": [
    "labels = [\"No Mask\",\"Mask\"]"
   ]
  },
  {
   "cell_type": "code",
   "execution_count": 19,
   "metadata": {},
   "outputs": [
    {
     "name": "stdout",
     "output_type": "stream",
     "text": [
      "              precision    recall  f1-score   support\n",
      "\n",
      "           0       1.00      0.98      0.99       483\n",
      "           1       0.98      1.00      0.99       509\n",
      "\n",
      "    accuracy                           0.99       992\n",
      "   macro avg       0.99      0.99      0.99       992\n",
      "weighted avg       0.99      0.99      0.99       992\n",
      "\n"
     ]
    }
   ],
   "source": [
    "print(classification_report(y_test,y_pred))"
   ]
  },
  {
   "cell_type": "code",
   "execution_count": 20,
   "metadata": {},
   "outputs": [],
   "source": [
    "model.save(\"models/final_mask_detection.h5\")"
   ]
  },
  {
   "cell_type": "code",
   "execution_count": null,
   "metadata": {},
   "outputs": [],
   "source": []
  }
 ],
 "metadata": {
  "kernelspec": {
   "display_name": "Python 3",
   "language": "python",
   "name": "python3"
  },
  "language_info": {
   "codemirror_mode": {
    "name": "ipython",
    "version": 3
   },
   "file_extension": ".py",
   "mimetype": "text/x-python",
   "name": "python",
   "nbconvert_exporter": "python",
   "pygments_lexer": "ipython3",
   "version": "3.8.5"
  }
 },
 "nbformat": 4,
 "nbformat_minor": 4
}
